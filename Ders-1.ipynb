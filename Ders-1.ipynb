{
  "nbformat": 4,
  "nbformat_minor": 0,
  "metadata": {
    "colab": {
      "provenance": []
    },
    "kernelspec": {
      "name": "python3",
      "display_name": "Python 3"
    },
    "language_info": {
      "name": "python"
    }
  },
  "cells": [
    {
      "cell_type": "markdown",
      "source": [
        "Pyhton programlama dilinde print komutu ekrandan kullanıcıya bilgi veren bir koddur.\n",
        "Veri yapıları ve algoritmalar dersi ilk kodlama çıktısıdır. İGÜ İSTKA SİBER AKADEMİ MERKEZİ - 19.08.2004"
      ],
      "metadata": {
        "id": "LD3vVLQp6vnt"
      }
    },
    {
      "cell_type": "code",
      "execution_count": 2,
      "metadata": {
        "colab": {
          "base_uri": "https://localhost:8080/"
        },
        "id": "E71M1qui2zTV",
        "outputId": "4e3631ec-2c2f-4e56-fa9d-9bbd921dcb28"
      },
      "outputs": [
        {
          "output_type": "stream",
          "name": "stdout",
          "text": [
            "Merhaba İGÜ - İSTKA / DERS -1!\n"
          ]
        }
      ],
      "source": [
        "print(\"Merhaba İGÜ - İSTKA / DERS -1!\") # Print ekrana çıktı veren bir koddur."
      ]
    },
    {
      "cell_type": "code",
      "source": [
        "import sys # import pyhton programlama dilinde kütüphane eklemeye yarayan kod bloğudur\n",
        "print(sys.version)"
      ],
      "metadata": {
        "colab": {
          "base_uri": "https://localhost:8080/"
        },
        "id": "4odiuwLU500Y",
        "outputId": "9c9d3dbe-d08e-433d-fe94-083c311859bc"
      },
      "execution_count": 4,
      "outputs": [
        {
          "output_type": "stream",
          "name": "stdout",
          "text": [
            "3.10.12 (main, Jul 29 2024, 16:56:48) [GCC 11.4.0]\n"
          ]
        }
      ]
    },
    {
      "cell_type": "code",
      "source": [
        "from google.colab import drive # google colab - drive bağlantısı\n",
        "drive.mount('/content/drive')"
      ],
      "metadata": {
        "colab": {
          "base_uri": "https://localhost:8080/"
        },
        "id": "Y0eUVZRV6Y3O",
        "outputId": "84c0b0a7-e169-40eb-e1dd-4bdbc536c728"
      },
      "execution_count": 7,
      "outputs": [
        {
          "output_type": "stream",
          "name": "stdout",
          "text": [
            "Mounted at /content/drive\n"
          ]
        }
      ]
    },
    {
      "cell_type": "code",
      "source": [
        "import os\n",
        "\n",
        "os.chdir('/content/drive/My Drive/VERIYAPILARI_ISTKA')\n",
        "\n",
        "!pwd # bize kodun çıktısını dosya yolu olarak veren kod bloğudur."
      ],
      "metadata": {
        "colab": {
          "base_uri": "https://localhost:8080/"
        },
        "id": "y9Mmbg5X8_6W",
        "outputId": "89a663b7-97be-4f6b-ec82-c9383da2578e"
      },
      "execution_count": 10,
      "outputs": [
        {
          "output_type": "stream",
          "name": "stdout",
          "text": [
            "/content/drive/My Drive/VERIYAPILARI_ISTKA\n"
          ]
        }
      ]
    }
  ]
}