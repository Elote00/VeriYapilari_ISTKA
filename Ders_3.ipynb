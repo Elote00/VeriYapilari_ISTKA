{
  "nbformat": 4,
  "nbformat_minor": 0,
  "metadata": {
    "colab": {
      "provenance": []
    },
    "kernelspec": {
      "name": "python3",
      "display_name": "Python 3"
    },
    "language_info": {
      "name": "python"
    }
  },
  "cells": [
    {
      "cell_type": "code",
      "execution_count": 1,
      "metadata": {
        "colab": {
          "base_uri": "https://localhost:8080/"
        },
        "id": "tgd10JRVlJUm",
        "outputId": "872c068e-ebb1-47b0-ad89-16e7ea9446b3"
      },
      "outputs": [
        {
          "output_type": "stream",
          "name": "stdout",
          "text": [
            "Merhaba, İGÜ - İSTKA / Ders 3\n"
          ]
        }
      ],
      "source": [
        "print(\"Merhaba, İGÜ - İSTKA / Ders 3\") # print ekrana çıktı veren bir koddur."
      ]
    },
    {
      "cell_type": "code",
      "source": [
        "import sys # import python programlama dilinde yazılıma kütüphane eklemeye yarayan bir kod blogudur.\n",
        "print(sys.version)"
      ],
      "metadata": {
        "colab": {
          "base_uri": "https://localhost:8080/"
        },
        "id": "3ldZoqHkwoTm",
        "outputId": "6cf50a77-fcbb-45be-ae4c-49e10227cd7d"
      },
      "execution_count": 2,
      "outputs": [
        {
          "output_type": "stream",
          "name": "stdout",
          "text": [
            "3.10.12 (main, Jul 29 2024, 16:56:48) [GCC 11.4.0]\n"
          ]
        }
      ]
    },
    {
      "cell_type": "code",
      "source": [
        "from google.colab import drive # google colab - drive bağlantısı\n",
        "drive.mount('/content/drive')"
      ],
      "metadata": {
        "colab": {
          "base_uri": "https://localhost:8080/"
        },
        "id": "LILz1YxIwtWm",
        "outputId": "596a3538-c9d4-4b7b-f176-9aade41a16f3"
      },
      "execution_count": 3,
      "outputs": [
        {
          "output_type": "stream",
          "name": "stdout",
          "text": [
            "Mounted at /content/drive\n"
          ]
        }
      ]
    },
    {
      "cell_type": "code",
      "source": [
        "import os\n",
        "\n",
        "os.chdir('/content/drive/My Drive/VERIYAPILARI_ISTKA')\n",
        "\n",
        "!pwd # bize kodun çıktısını dosya yolu olarak veren kod blogudur."
      ],
      "metadata": {
        "colab": {
          "base_uri": "https://localhost:8080/"
        },
        "id": "WzgNHzTwxRSX",
        "outputId": "b775cbd4-9bd4-42e4-a4c7-03b57eac9068"
      },
      "execution_count": 4,
      "outputs": [
        {
          "output_type": "stream",
          "name": "stdout",
          "text": [
            "/content/drive/My Drive/VERIYAPILARI_ISTKA\n"
          ]
        }
      ]
    },
    {
      "cell_type": "markdown",
      "source": [
        "PYTHON Koşul Yapıları\n",
        "\n",
        "\n",
        "1. if Koşul yapısı -> belirtilen şart doğruysa (True) bir bloğun çalıştırılmasını sağlamaktadır.\n",
        "2. if-else Koşul yapısı -> if bloğu sağlanmazsa, else bloğu çalıştırılır.\n",
        "3. if-elif-else Koşul yapısı -> Birden fazla koşul kontrol etmek için elif (else if) kullanılır. İlk doğru koşul bulunana kadar kontrol devam eder. Hiçbiri doğru değilse, else bloğu çalıştırılır.\n",
        "4. İç İçe Koşullar\n",
        "5. Mantıksal Operatörler ile Koşul Yapıları"
      ],
      "metadata": {
        "id": "S_9Y_EGKxiAE"
      }
    },
    {
      "cell_type": "code",
      "source": [
        "# if koşul yapısı\n",
        "\n",
        "x = 10\n",
        "\n",
        "if x > 5 :\n",
        "  print(\"x, 5'ten büyüktür.\")"
      ],
      "metadata": {
        "colab": {
          "base_uri": "https://localhost:8080/"
        },
        "id": "tlvxS1Dyx1C6",
        "outputId": "2c5f6495-65ea-4079-9be2-a6ade71e27f3"
      },
      "execution_count": 5,
      "outputs": [
        {
          "output_type": "stream",
          "name": "stdout",
          "text": [
            "x, 5'ten büyüktür.\n"
          ]
        }
      ]
    },
    {
      "cell_type": "code",
      "source": [
        "# if - else koşul yapısı\n",
        "\n",
        "x = 3\n",
        "\n",
        "if x > 5:\n",
        "  print(\"x, 5'ten büyüktür.\")\n",
        "else:\n",
        "  print(\"x, 5'ten küçük veya eşittir.\")"
      ],
      "metadata": {
        "colab": {
          "base_uri": "https://localhost:8080/"
        },
        "id": "kTdgkBfY4gpu",
        "outputId": "cea5bfd4-e538-40c8-da9b-077d098670db"
      },
      "execution_count": 6,
      "outputs": [
        {
          "output_type": "stream",
          "name": "stdout",
          "text": [
            "x, 5'ten küçük veya eşittir.\n"
          ]
        }
      ]
    },
    {
      "cell_type": "code",
      "source": [
        "# if-elif-else koşul yapısı\n",
        "\n",
        "x = 8\n",
        "\n",
        "if x > 10:\n",
        "  print(\"x,10'dan büyüktür.\")\n",
        "elif x > 5:\n",
        "  print(\"x, 5'ten büyüktür ama 10'dan küçük veya eşittir.\")\n",
        "else:\n",
        "  print(\"x, 5'ten küçük veya eşittir\")\n"
      ],
      "metadata": {
        "colab": {
          "base_uri": "https://localhost:8080/"
        },
        "id": "FY9O_aZh8ZTK",
        "outputId": "3fb471ea-c700-4bed-8012-a3ac66bced50"
      },
      "execution_count": 7,
      "outputs": [
        {
          "output_type": "stream",
          "name": "stdout",
          "text": [
            "x, 5'ten büyüktür ama 10'dan küçük veya eşittir.\n"
          ]
        }
      ]
    },
    {
      "cell_type": "code",
      "source": [
        "# iç içe koşul yapısı\n",
        "\n",
        "x = 12\n",
        "y = 8\n",
        "\n",
        "if x > 10:\n",
        "  if y > 5:\n",
        "    print(\"x, 10'dan büyük ve y, 5'ten büyüktür.\") # bu satır çalışır\n",
        "  else:\n",
        "    print(\"x, 10'dan büyük ama y, 5'ten küçük veya eşittir.\")\n",
        "else:\n",
        "  print(\"x, 10'dan küçük veya eşittir\")"
      ],
      "metadata": {
        "colab": {
          "base_uri": "https://localhost:8080/"
        },
        "id": "u2E1pRF2Cwb_",
        "outputId": "58d65d67-a7af-4c0f-8988-725b9465d551"
      },
      "execution_count": 8,
      "outputs": [
        {
          "output_type": "stream",
          "name": "stdout",
          "text": [
            "x, 10'dan büyük ve y, 5'ten büyüktür.\n"
          ]
        }
      ]
    },
    {
      "cell_type": "code",
      "source": [
        "# Mantıksal operatörler ile koşullar\n",
        "\n",
        "x = 7\n",
        "y = 3\n",
        "\n",
        "# 'and' operetörü ile\n",
        "\n",
        "if x > 5 and y > 2 :\n",
        "  print(\"x, 5'ten büyük ve y, 2'den büyüktür.\") # Bu satır çalışır\n",
        "\n",
        "# 'or' operetörü ile\n",
        "\n",
        "if x > 5 or y > 2 :\n",
        "  print(\"x veya y, 5'ten büyüktür.\") # Bu satır çalışır\n",
        "\n",
        "\n",
        "# 'not' operetörü ile\n",
        "\n",
        "if not (x > 10) :\n",
        "  print(\"x, 10'dan büyük değildir\") # Bu satır çalışır\n"
      ],
      "metadata": {
        "colab": {
          "base_uri": "https://localhost:8080/"
        },
        "id": "_TjBWXBbE21P",
        "outputId": "755b496c-8e32-444f-bcfe-f7751b46b833"
      },
      "execution_count": 9,
      "outputs": [
        {
          "output_type": "stream",
          "name": "stdout",
          "text": [
            "x, 5'ten büyük ve y, 2'den büyüktür.\n",
            "x veya y, 5'ten büyüktür.\n",
            "x, 10'dan büyük değildir\n"
          ]
        }
      ]
    },
    {
      "cell_type": "markdown",
      "source": [
        "Koşul Yapısı Örnekleri"
      ],
      "metadata": {
        "id": "Aiq1NeLfG-Jv"
      }
    },
    {
      "cell_type": "code",
      "source": [
        "# Örnek 1 : Not Sİstemi\n",
        "\n",
        "notu = 85 # not farkını gösterilcek...\n",
        "\n",
        "if notu >= 90:\n",
        "  print(\"Harf notu: A\")\n",
        "elif notu >= 80:\n",
        "  print(\"Harf notu: B\") # Bu Satır çalışır\n",
        "elif notu >= 70:\n",
        "  print(\"Harf notu: c\")\n",
        "elif notu >= 60:\n",
        "  print(\"Harf notu: D\")\n",
        "elif notu >= 50:\n",
        "  print(\"Harf notu: F\")"
      ],
      "metadata": {
        "colab": {
          "base_uri": "https://localhost:8080/"
        },
        "id": "rgSQiUn5HADS",
        "outputId": "089ee7df-1523-4859-ab64-3d676124b301"
      },
      "execution_count": 10,
      "outputs": [
        {
          "output_type": "stream",
          "name": "stdout",
          "text": [
            "Harf notu: B\n"
          ]
        }
      ]
    },
    {
      "cell_type": "code",
      "source": [
        "# Örnek 2: Yaş kontrolü\n",
        "\n",
        "yas = 20\n",
        "\n",
        "if yas < 18:\n",
        "  print(\"Reşit değilsiniz.\")\n",
        "elif yas < 21:\n",
        "  print(\"Reşitsiniz ama içecek satın alamazsınız.\") # Bu satır çalışır\n",
        "else:\n",
        "  print(\"İçecek sastın alabilirsiniz.\")"
      ],
      "metadata": {
        "colab": {
          "base_uri": "https://localhost:8080/"
        },
        "id": "i5k4e5P4Hy6O",
        "outputId": "7cd066ef-bffe-4476-d47f-8fac4acb209e"
      },
      "execution_count": 11,
      "outputs": [
        {
          "output_type": "stream",
          "name": "stdout",
          "text": [
            "Reşitsiniz ama içecek satın alamazsınız.\n"
          ]
        }
      ]
    },
    {
      "cell_type": "code",
      "source": [
        "# Örnek 3: Sayı Pozitif, Negatif vaya sıfır mı?\n",
        "\n",
        "sayi = int(input(\"Bir sayı gir: \"))\n",
        "\n",
        "if sayi > 0:\n",
        "  print(\"Sayı pozitif.\")\n",
        "elif sayi < 0:\n",
        "  print(\"Sayı negatiftir.\")\n",
        "else:\n",
        "  print(\"Sayı sıfırdır.\")"
      ],
      "metadata": {
        "colab": {
          "base_uri": "https://localhost:8080/"
        },
        "id": "RQkUHfkJInJv",
        "outputId": "b820bd75-4076-409f-e48f-37358c3782d1"
      },
      "execution_count": 12,
      "outputs": [
        {
          "output_type": "stream",
          "name": "stdout",
          "text": [
            "Bir sayı gir: 50\n",
            "Sayı pozitif.\n"
          ]
        }
      ]
    }
  ]
}