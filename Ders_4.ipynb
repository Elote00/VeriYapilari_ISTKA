{
  "nbformat": 4,
  "nbformat_minor": 0,
  "metadata": {
    "colab": {
      "provenance": []
    },
    "kernelspec": {
      "name": "python3",
      "display_name": "Python 3"
    },
    "language_info": {
      "name": "python"
    }
  },
  "cells": [
    {
      "cell_type": "code",
      "execution_count": 5,
      "metadata": {
        "id": "lD0xg0HLyb3I",
        "colab": {
          "base_uri": "https://localhost:8080/"
        },
        "outputId": "c565999a-d419-45ae-8f89-bbc2d15fe322"
      },
      "outputs": [
        {
          "output_type": "stream",
          "name": "stdout",
          "text": [
            "Merhaba, İGÜ - İSTKA / Ders 4\n"
          ]
        }
      ],
      "source": [
        "print(\"Merhaba, İGÜ - İSTKA / Ders 4\") # print ekrana çıktı veren bir koddur."
      ]
    },
    {
      "cell_type": "code",
      "source": [
        "import sys # import python programlama dilinde yazılıma kütüphane eklemeye yarayan bir kod blogudur.\n",
        "print(sys.version)"
      ],
      "metadata": {
        "colab": {
          "base_uri": "https://localhost:8080/"
        },
        "id": "m_gE_1td1RZI",
        "outputId": "1cb5276f-27b8-431c-8e26-6f96c1ae427d"
      },
      "execution_count": 2,
      "outputs": [
        {
          "output_type": "stream",
          "name": "stdout",
          "text": [
            "3.10.12 (main, Jul 29 2024, 16:56:48) [GCC 11.4.0]\n"
          ]
        }
      ]
    },
    {
      "cell_type": "code",
      "source": [
        "from google.colab import drive # google colab - drive bağlantısı\n",
        "\n",
        "drive.mount('/content/drive')"
      ],
      "metadata": {
        "colab": {
          "base_uri": "https://localhost:8080/"
        },
        "id": "-D5wJ0Dc1U7y",
        "outputId": "e5d980a2-10c0-4386-b5b3-cbde01b8102c"
      },
      "execution_count": 3,
      "outputs": [
        {
          "output_type": "stream",
          "name": "stdout",
          "text": [
            "Mounted at /content/drive\n"
          ]
        }
      ]
    },
    {
      "cell_type": "code",
      "source": [
        "import os\n",
        "\n",
        "os.chdir('/content/drive/My Drive/VERIYAPILARI_ISTKA')\n",
        "\n",
        "!pwd # bize kodun çıktısını dosya yolu olarak veren kod blogudur."
      ],
      "metadata": {
        "colab": {
          "base_uri": "https://localhost:8080/"
        },
        "id": "5cwn7L7k1eBM",
        "outputId": "f60f2d9c-fff1-429e-ac11-c1a7c81a020f"
      },
      "execution_count": 4,
      "outputs": [
        {
          "output_type": "stream",
          "name": "stdout",
          "text": [
            "/content/drive/My Drive/VERIYAPILARI_ISTKA\n"
          ]
        }
      ]
    },
    {
      "cell_type": "markdown",
      "source": [
        "PYTHON Döngü Yapıları\n",
        "\n",
        "Döngüler, belirli bir kod bölümünün birden fazla çalıştırmamıza olanak tanır. Döngüler, genellikle yazılımda tekrar eden işlemler için kullanılır.\n",
        "\n",
        "---\n",
        "\n",
        "Döngü Türleri:\n",
        "\n",
        "1. for Döngüsü--> Belirli bir sıralama üzerinde iterasyon yapmak için kullanılır. Genellikle bir liste, dizi veya range fonksiyonu ile kullanılır.\n",
        "\n",
        "2. while Döngüsü--> Belirli bir koşul doğru olduğu sürece kod bloğunu çalıştırır.\n",
        "\n",
        "\n",
        "---\n",
        "\n",
        "\n",
        "Döngü Kontrol Yapıları:\n",
        "\n",
        "\n",
        "2. break--> Döngüyü tamamen sonlandırır.\n",
        "3. continue--> Döngünün o anki tekrarı-iterasyonunu sonlandırır ve bir sonraki tekrara-iterasyona geçer.\n",
        "\n",
        "\n",
        "---\n",
        "\n",
        "\n",
        "Döngü İçinde Döngü (İç İçe Döngüler):\n",
        "\n",
        "1. İç İçe for Döngüsü\n",
        "2. İç İçe while Döngüsü\n"
      ],
      "metadata": {
        "id": "ScsuVQHG1sqI"
      }
    },
    {
      "cell_type": "code",
      "source": [
        "# for düngüsü örneği 0': dan 4'e kadar olan sayıları yazan uygulama\n",
        "\n",
        "for i in range(5):\n",
        "  print(i)"
      ],
      "metadata": {
        "colab": {
          "base_uri": "https://localhost:8080/"
        },
        "id": "ZmyEC9lj2R2m",
        "outputId": "f73af095-83f5-4d63-bb0e-5eee13ed04b7"
      },
      "execution_count": 6,
      "outputs": [
        {
          "output_type": "stream",
          "name": "stdout",
          "text": [
            "0\n",
            "1\n",
            "2\n",
            "3\n",
            "4\n"
          ]
        }
      ]
    },
    {
      "cell_type": "code",
      "source": [
        "# for döngüsü örneği: alışveriş listesi oluşturma\n",
        "liste = [\"elma\",\"ekmek\",\"süt\",\"peynir\"]\n",
        "\n",
        "for alinacaklar in liste:\n",
        "  print(alinacaklar)"
      ],
      "metadata": {
        "colab": {
          "base_uri": "https://localhost:8080/"
        },
        "id": "xJ2-7sAGBGpS",
        "outputId": "589041dc-b74a-4f96-8f8f-eee34697052c"
      },
      "execution_count": 7,
      "outputs": [
        {
          "output_type": "stream",
          "name": "stdout",
          "text": [
            "elma\n",
            "ekmek\n",
            "süt\n",
            "peynir\n"
          ]
        }
      ]
    },
    {
      "cell_type": "code",
      "source": [
        "# for döngüsü örneği : bir sınıftaki öğrencilerin notlarının ortalamasını hesaplama\n",
        "\n",
        "notlar = [85,92,78,90,88]\n",
        "toplam = 0;\n",
        "\n",
        "for sayi in notlar:\n",
        "  toplam += sayi # toplam = toplam +  sayi\n",
        "\n",
        "ortalama = toplam / len(notlar)\n",
        "\n",
        "print(\"Birinci Print -> Not ortalaması: \",ortalama)\n",
        "print(f\"İkinci Print -> Not ortalaması: {ortalama}\")"
      ],
      "metadata": {
        "colab": {
          "base_uri": "https://localhost:8080/"
        },
        "id": "_npmHBD9Bo59",
        "outputId": "f5b8411a-7a31-4023-bf46-6880fa291670"
      },
      "execution_count": 8,
      "outputs": [
        {
          "output_type": "stream",
          "name": "stdout",
          "text": [
            "Birinci Print -> Not ortalaması:  86.6\n",
            "İkinci Print -> Not ortalaması: 86.6\n"
          ]
        }
      ]
    },
    {
      "cell_type": "code",
      "source": [
        "# while döngüsü örneği: 0'dan 4ê kadar olan sayıları yazdırılması işlemidir\n",
        "\n",
        "i = 0;\n",
        "\n",
        "while i < 5:\n",
        "  print(i)\n",
        "  i += 1"
      ],
      "metadata": {
        "colab": {
          "base_uri": "https://localhost:8080/"
        },
        "id": "jXcAf6shC5Ok",
        "outputId": "60ca7b25-3636-4e3e-f8a8-7db3d0bfcc64"
      },
      "execution_count": 10,
      "outputs": [
        {
          "output_type": "stream",
          "name": "stdout",
          "text": [
            "0\n",
            "1\n",
            "2\n",
            "3\n",
            "4\n"
          ]
        }
      ]
    },
    {
      "cell_type": "code",
      "source": [
        "# kullanıcıdan bir sayı alınması\n",
        "\n",
        "kullanici_girdisi = int(input(\"Bir sayı girin: \"))\n",
        "\n",
        "# 0'dan kullanıcı tarafından girilen sayıya kadar sıralama yapma\n",
        "\n",
        "i = 0\n",
        "\n",
        "while i <= kullanici_girdisi:\n",
        "  print(i)\n",
        "  i += 1"
      ],
      "metadata": {
        "colab": {
          "base_uri": "https://localhost:8080/"
        },
        "id": "dpFT2k3VDgvo",
        "outputId": "a6b44078-7826-4432-f305-eff6e88000d5"
      },
      "execution_count": 11,
      "outputs": [
        {
          "output_type": "stream",
          "name": "stdout",
          "text": [
            "Bir sayı girin: 10\n",
            "0\n",
            "1\n",
            "2\n",
            "3\n",
            "4\n",
            "5\n",
            "6\n",
            "7\n",
            "8\n",
            "9\n",
            "10\n"
          ]
        }
      ]
    },
    {
      "cell_type": "code",
      "source": [
        "# break örneği: 3'e ulaştığında o tekrar işlemini es geçen kod blogudur\n",
        "for i in range(5):\n",
        "  if i == 3:\n",
        "    break\n",
        "  print(i)"
      ],
      "metadata": {
        "colab": {
          "base_uri": "https://localhost:8080/"
        },
        "id": "r3uNF8DhEx5w",
        "outputId": "9bc4f144-66e9-4168-d68c-14703d6dca18"
      },
      "execution_count": 12,
      "outputs": [
        {
          "output_type": "stream",
          "name": "stdout",
          "text": [
            "0\n",
            "1\n",
            "2\n"
          ]
        }
      ]
    },
    {
      "cell_type": "code",
      "source": [
        "# continue örneği: 3'e ulaştığında o tekrar işlemini es geçen kod blogudur.\n",
        "\n",
        "for i in range(5):\n",
        "  if i == 3:\n",
        "    continue\n",
        "  print(i)"
      ],
      "metadata": {
        "colab": {
          "base_uri": "https://localhost:8080/"
        },
        "id": "7uldoo-jMHrh",
        "outputId": "5733963f-c8c9-4a1c-9921-1d21399af25a"
      },
      "execution_count": 13,
      "outputs": [
        {
          "output_type": "stream",
          "name": "stdout",
          "text": [
            "0\n",
            "1\n",
            "2\n",
            "4\n"
          ]
        }
      ]
    },
    {
      "cell_type": "code",
      "source": [
        "# iç içe for döngü örneği: 2 boyutlu bir matrisin elemanları üzerinde işlemler\n",
        "\n",
        "matris = [\n",
        "    [1,2,3],\n",
        "    [4,5,6],\n",
        "    [7,8,9]\n",
        "]\n",
        "\n",
        "for x in matris:\n",
        "  for y in x:\n",
        "    print(y)"
      ],
      "metadata": {
        "colab": {
          "base_uri": "https://localhost:8080/"
        },
        "id": "WTiSGJpyMtcE",
        "outputId": "efcaa6e7-83d8-4588-86c9-a27e4bafc61c"
      },
      "execution_count": 14,
      "outputs": [
        {
          "output_type": "stream",
          "name": "stdout",
          "text": [
            "1\n",
            "2\n",
            "3\n",
            "4\n",
            "5\n",
            "6\n",
            "7\n",
            "8\n",
            "9\n"
          ]
        }
      ]
    },
    {
      "cell_type": "code",
      "source": [
        "# kullanıcıdan bilgi alınması\n",
        "while True:\n",
        "  try:\n",
        "    gelen_bilgi = int((input(\"Bir sayı girin: \")))\n",
        "    break\n",
        "  except ValueError:\n",
        "    print(\"Lütfen geçerli bir sayı girin!\")\n",
        "\n",
        "# 0 dan kullanıcı tarafından girilen sayıya kadar sıralama yapma\n",
        "\n",
        "i = 0\n",
        "while i <= gelen_bilgi:\n",
        "  print(i)\n",
        "  i += 1\n"
      ],
      "metadata": {
        "colab": {
          "base_uri": "https://localhost:8080/"
        },
        "id": "jE61hWaZOGkw",
        "outputId": "217e094d-2234-401f-f16e-8a721119e46c"
      },
      "execution_count": 21,
      "outputs": [
        {
          "output_type": "stream",
          "name": "stdout",
          "text": [
            "Bir sayı girin: 2\n",
            "0\n",
            "1\n",
            "2\n"
          ]
        }
      ]
    },
    {
      "cell_type": "code",
      "source": [
        "#while döngüsü örneği: kullanıcı bakiye bilgisinin sorgulanması\n",
        "\n",
        "toplam_ucret = 1000\n",
        "while toplam_ucret > 0:\n",
        "  try:\n",
        "    cekilen_tutar = int(input(\"Çekmek istediğiniz miktarı girin: \"))\n",
        "    if cekilen_tutar > toplam_ucret:\n",
        "      bilgi = input(\"İşleme devam etmek istiyormusunuz? (e/h): \").lower()\n",
        "      if bilgi == \"h\":\n",
        "        print(\"işlem sonlandırıldı\")\n",
        "        break\n",
        "    else:\n",
        "      toplam_ucret -= cekilen_tutar\n",
        "      print(f\"kalan bakiye: {toplam_ucret}\")\n",
        "    if toplam_ucret == 0:\n",
        "      print(\"bakiye tükendi.\")\n",
        "      break\n",
        "  except ValueError:\n",
        "    print(\"Lütfen geçerli bir sayı girin!\")"
      ],
      "metadata": {
        "colab": {
          "base_uri": "https://localhost:8080/"
        },
        "id": "A4ZraYfmPEOB",
        "outputId": "8e5fd302-f2dc-4ded-f3b8-5805c5ba5d02"
      },
      "execution_count": 18,
      "outputs": [
        {
          "output_type": "stream",
          "name": "stdout",
          "text": [
            "Çekmek istediğiniz miktarı girin: 1500\n",
            "İşleme devam etmek istiyormusunuz? (e/h): e\n",
            "Çekmek istediğiniz miktarı girin: 500\n",
            "kalan bakiye: 500\n",
            "Çekmek istediğiniz miktarı girin: 500\n",
            "kalan bakiye: 0\n",
            "bakiye tükendi.\n"
          ]
        }
      ]
    }
  ]
}