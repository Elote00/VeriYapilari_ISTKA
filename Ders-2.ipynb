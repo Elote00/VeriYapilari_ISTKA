{
  "nbformat": 4,
  "nbformat_minor": 0,
  "metadata": {
    "colab": {
      "provenance": []
    },
    "kernelspec": {
      "name": "python3",
      "display_name": "Python 3"
    },
    "language_info": {
      "name": "python"
    }
  },
  "cells": [
    {
      "cell_type": "code",
      "execution_count": 1,
      "metadata": {
        "colab": {
          "base_uri": "https://localhost:8080/"
        },
        "id": "1XNgrRMzoIUi",
        "outputId": "1cdfced6-e325-47b7-fb71-d1e3add19baf"
      },
      "outputs": [
        {
          "output_type": "stream",
          "name": "stdout",
          "text": [
            "Merhaba, İGÜ - İSTKA / DERS 2\n"
          ]
        }
      ],
      "source": [
        "print(\"Merhaba, İGÜ - İSTKA / DERS 2\") # print ekrana çıktı verir"
      ]
    },
    {
      "cell_type": "code",
      "source": [
        "import sys # import pyhton programlama dilinde kütüphane eklemeye yarayan kod bloğudur\n",
        "print(sys.version)"
      ],
      "metadata": {
        "colab": {
          "base_uri": "https://localhost:8080/"
        },
        "id": "iM9qGK0JpQds",
        "outputId": "5be3aa24-3769-413f-c0fc-ccce3c1d9840"
      },
      "execution_count": 2,
      "outputs": [
        {
          "output_type": "stream",
          "name": "stdout",
          "text": [
            "3.10.12 (main, Jul 29 2024, 16:56:48) [GCC 11.4.0]\n"
          ]
        }
      ]
    },
    {
      "cell_type": "code",
      "source": [
        "from google.colab import drive # google colab - drive bağlantısı\n",
        "drive.mount ('/content/drive')"
      ],
      "metadata": {
        "colab": {
          "base_uri": "https://localhost:8080/"
        },
        "id": "aqmPci7Ppdgj",
        "outputId": "4cc0fc93-b2fa-44d4-c276-999719283ba3"
      },
      "execution_count": 4,
      "outputs": [
        {
          "output_type": "stream",
          "name": "stdout",
          "text": [
            "Mounted at /content/drive\n"
          ]
        }
      ]
    },
    {
      "cell_type": "code",
      "source": [
        "import os\n",
        "\n",
        "os.chdir('/content/drive/My Drive/VERIYAPILARI_ISTKA')\n",
        "\n",
        "!pwd # bize kodun çıktısını dosya yolu olarak veren kod blogudur."
      ],
      "metadata": {
        "colab": {
          "base_uri": "https://localhost:8080/"
        },
        "id": "dLGFKQ3VrfLJ",
        "outputId": "100ac61b-966b-4b92-b952-f0d55f5b140b"
      },
      "execution_count": 5,
      "outputs": [
        {
          "output_type": "stream",
          "name": "stdout",
          "text": [
            "/content/drive/My Drive/VERIYAPILARI_ISTKA\n"
          ]
        }
      ]
    },
    {
      "cell_type": "code",
      "source": [
        "# Geçerli değişken tanımlaması\n",
        "degisken_1 = 10\n",
        "Degisken2 = 20\n",
        "_degisken3 = 30"
      ],
      "metadata": {
        "id": "kPg4MWCCuoZ8"
      },
      "execution_count": null,
      "outputs": []
    },
    {
      "cell_type": "code",
      "source": [
        "# Geçersiz değişken tanımlaması\n",
        "1degisken = 40\n",
        "degisken-4 = 50"
      ],
      "metadata": {
        "id": "xH6yGu46v6BE"
      },
      "execution_count": null,
      "outputs": []
    },
    {
      "cell_type": "code",
      "source": [
        "# Degisken tanımlama işlemi\n",
        "\n",
        "x = 5\n",
        "y = \"Merhaba dünya\"\n",
        "\n",
        "print(x)\n",
        "print(y)"
      ],
      "metadata": {
        "colab": {
          "base_uri": "https://localhost:8080/"
        },
        "id": "PlbO6-BRwNzb",
        "outputId": "7c2de693-4e04-4c20-f852-21022471712b"
      },
      "execution_count": 7,
      "outputs": [
        {
          "output_type": "stream",
          "name": "stdout",
          "text": [
            "(5, 'mehmet')\n",
            "Merhaba dünya\n"
          ]
        }
      ]
    },
    {
      "cell_type": "code",
      "source": [
        "# int - tamsayı tanımlaması\n",
        "a = 10\n",
        "print(type(a))"
      ],
      "metadata": {
        "colab": {
          "base_uri": "https://localhost:8080/"
        },
        "id": "cFiYDzSd51c_",
        "outputId": "89e9b09d-d6b0-449b-9411-ab602ffc1839"
      },
      "execution_count": 8,
      "outputs": [
        {
          "output_type": "stream",
          "name": "stdout",
          "text": [
            "<class 'int'>\n"
          ]
        }
      ]
    },
    {
      "cell_type": "code",
      "source": [
        "# Float - ondalıklı sayı tanımlama\n",
        "\n",
        "b = 20.5\n",
        "print(type(b))"
      ],
      "metadata": {
        "colab": {
          "base_uri": "https://localhost:8080/"
        },
        "id": "i2fDD3FK6VZ1",
        "outputId": "92fd7426-949e-4e5f-db33-04be8bd49450"
      },
      "execution_count": 9,
      "outputs": [
        {
          "output_type": "stream",
          "name": "stdout",
          "text": [
            "<class 'float'>\n"
          ]
        }
      ]
    },
    {
      "cell_type": "code",
      "source": [
        "# int'ten float'a çevrimin gerçekleştirilmesi\n",
        "\n",
        "x =10\n",
        "y = float(x)\n",
        "print(b,type(b))"
      ],
      "metadata": {
        "colab": {
          "base_uri": "https://localhost:8080/"
        },
        "id": "PfSchrCX6gYl",
        "outputId": "59c10843-1371-453c-f722-0b21417ff758"
      },
      "execution_count": 11,
      "outputs": [
        {
          "output_type": "stream",
          "name": "stdout",
          "text": [
            "20.5 <class 'float'>\n"
          ]
        }
      ]
    },
    {
      "cell_type": "code",
      "source": [
        "# float olan değişkeni int'e çevirme\n",
        "\n",
        "a = 12.34\n",
        "b = int(a)\n",
        "print(b , type(b))\n",
        "# Not: Float olan değişken değerini int veri tipine çevrildiğinde, vilgülden sonrası yuvarlanır"
      ],
      "metadata": {
        "colab": {
          "base_uri": "https://localhost:8080/"
        },
        "id": "WPhlHM6t7lHO",
        "outputId": "b0afed88-48c9-4516-9be6-3826457ecb24"
      },
      "execution_count": 13,
      "outputs": [
        {
          "output_type": "stream",
          "name": "stdout",
          "text": [
            "12 <class 'int'>\n"
          ]
        }
      ]
    },
    {
      "cell_type": "code",
      "source": [
        "# String - Metinsel değişken tanımlama\n",
        "c = \"Pyhton Programlama\"\n",
        "print(c)\n",
        "print(type(c))"
      ],
      "metadata": {
        "colab": {
          "base_uri": "https://localhost:8080/"
        },
        "id": "ZcSlATFT8Jmn",
        "outputId": "78992c36-145f-4ad7-e71d-e1d3dad90c92"
      },
      "execution_count": 14,
      "outputs": [
        {
          "output_type": "stream",
          "name": "stdout",
          "text": [
            "Pyhton Programlama\n",
            "<class 'str'>\n"
          ]
        }
      ]
    },
    {
      "cell_type": "code",
      "source": [
        "# Boolean (True - False)\n",
        "d = True\n",
        "e = False\n",
        "print(d)\n",
        "print(type(e))"
      ],
      "metadata": {
        "colab": {
          "base_uri": "https://localhost:8080/"
        },
        "id": "JwPfPJ2l8cRe",
        "outputId": "977321d1-4377-4279-e5b9-ee9043d801a6"
      },
      "execution_count": 15,
      "outputs": [
        {
          "output_type": "stream",
          "name": "stdout",
          "text": [
            "True\n",
            "<class 'bool'>\n"
          ]
        }
      ]
    },
    {
      "cell_type": "code",
      "source": [
        "#List - Liste tanımlaması (Dizi)\n",
        "\n",
        "Liste = [1,2,3,4,5]\n",
        "print(type(Liste))\n",
        "print(Liste)"
      ],
      "metadata": {
        "colab": {
          "base_uri": "https://localhost:8080/"
        },
        "id": "QnqeSrgb9kmH",
        "outputId": "10b8d8f6-db19-4f8f-f777-677241aa8549"
      },
      "execution_count": 16,
      "outputs": [
        {
          "output_type": "stream",
          "name": "stdout",
          "text": [
            "<class 'list'>\n",
            "[1, 2, 3, 4, 5]\n"
          ]
        }
      ]
    },
    {
      "cell_type": "code",
      "source": [
        "# Tuple - Demet tanımlaması\n",
        "\n",
        "demet = (1,2,3,4,5) # liste ile karıştırma\n",
        "print(type(demet))\n",
        "print(demet)"
      ],
      "metadata": {
        "colab": {
          "base_uri": "https://localhost:8080/"
        },
        "id": "7vcyuj0K-qPe",
        "outputId": "48d0292c-9c66-447d-c2cf-0f4f62edf572"
      },
      "execution_count": 17,
      "outputs": [
        {
          "output_type": "stream",
          "name": "stdout",
          "text": [
            "<class 'tuple'>\n",
            "(1, 2, 3, 4, 5)\n"
          ]
        }
      ]
    },
    {
      "cell_type": "markdown",
      "source": [
        "Dictionary - Sözlük Nedir?\n",
        "\n",
        "1. Sözlükler, anahtar-değer (key-value) çiftlerini depolayan veri yapılarıdır.\n",
        "2. Her anahtar benzersizdir ve bir değere karşılık gelir.\n",
        "3. Sözlükler sırasızdır ve değiştirilebilir.\n",
        "\n",
        " Sözlük Metotları\n",
        "\n",
        "1. keys(): Sözlüğün anahtarlarını döner.\n",
        "2. values(): Sözlüğün değerlerini döner.\n",
        "3. items(): Sözlüğün anahtar-değer çiftlerini döner."
      ],
      "metadata": {
        "id": "pKIGYB23_4Gu"
      }
    },
    {
      "cell_type": "code",
      "source": [
        "# Dictionary - Sözlük Örneği -> Öğrencilerin not tutma örneği\n",
        "\n",
        "notlar = {\n",
        "    \"Ali\" : 85 ,\n",
        "    \"Veli\" : 90 ,\n",
        "    \"Ayşe\" : 78\n",
        "\n",
        "}\n",
        "\n",
        "notlar[\"Fatma\"] = 92 # Yeni öğrenci ekleme\n",
        "notlar[\"Ali\"] = 88 # Bir öğrencinin notunu güncelleme\n",
        "print(notlar)"
      ],
      "metadata": {
        "colab": {
          "base_uri": "https://localhost:8080/"
        },
        "id": "mv14ZIXOANrL",
        "outputId": "6f97d581-dce5-460c-d680-539db95798d5"
      },
      "execution_count": 19,
      "outputs": [
        {
          "output_type": "stream",
          "name": "stdout",
          "text": [
            "{'Ali': 88, 'Veli': 90, 'Ayşe': 78, 'Fatma': 92}\n"
          ]
        }
      ]
    },
    {
      "cell_type": "code",
      "source": [
        "print(notlar.keys())       # dict_keys(['isim', 'yas', 'meslek'])\n",
        "print(notlar.values())     # dict_values(['Ahmet', 26, 'Mühendis'])\n",
        "print(notlar.items())      # dict_items([('isim', 'Ahmet'), ('yas', 26), ('meslek', 'Mühendis')])"
      ],
      "metadata": {
        "colab": {
          "base_uri": "https://localhost:8080/"
        },
        "id": "IdNRbCtLBVqN",
        "outputId": "433627e6-4040-4782-9c9d-fcb90bb7aa3b"
      },
      "execution_count": 20,
      "outputs": [
        {
          "output_type": "stream",
          "name": "stdout",
          "text": [
            "dict_keys(['Ali', 'Veli', 'Ayşe', 'Fatma'])\n",
            "dict_values([88, 90, 78, 92])\n",
            "dict_items([('Ali', 88), ('Veli', 90), ('Ayşe', 78), ('Fatma', 92)])\n"
          ]
        }
      ]
    },
    {
      "cell_type": "markdown",
      "source": [
        "Set - Küme Nedir?\n",
        "\n",
        "1. Kümeler, benzersiz elemanlardan oluşan sırasız koleksiyonlardır.\n",
        "2. Kümeler değiştirilebilir ve tekrarlayan eleman içermez.\n",
        "\n",
        "Küme Metotları\n",
        "\n",
        "1. add(): Küme içerisine eleman ekler.\n",
        "2. remove(): Küme içerisinden eleman siler.\n",
        "3. union(): İki kümenin birleşimini döner.\n",
        "4. intersection(): İki kümenin kesişimini döner.\n",
        "5. difference(): İki kümenin farkını döner."
      ],
      "metadata": {
        "id": "45J4JANrB2it"
      }
    },
    {
      "cell_type": "code",
      "source": [
        "# Set - Küme Örneği -> Bir yazılım etkinliğine katılan kişilerin oluşturduğu kümeler\n",
        "\n",
        "kodyazanlar = {\"Ahmet\",\"Mehmet\",\"Ayşe\"}\n",
        "kodyazmayanlar = {\"Ayşe\", \"Fatma\", \"Veli\"}\n",
        "\n",
        "# Kafasına Göre Takılan Öğrenciler\n",
        "\n",
        "ortak = kodyazanlar .intersection(kodyazmayanlar)\n",
        "print(\"Kafasına Göre Takılan Öğrencilerin Listesi: \", ortak)\n",
        "\n",
        "#Etkinlikte Kod Çalışması Yapmayan Öğrencilerin Tespiti\n",
        "\n",
        "Kod_yazmayan = kodyazmayanlar.difference(kodyazanlar)\n",
        "print(\"Kod çalışması yapmayan öğrenci listesi: \", Kod_yazmayan)\n",
        "\n",
        "# Yazılım Eğitiminin Öğrenci İmza Listesi\n",
        "\n",
        "imza_listesi = kodyazanlar.union(kodyazmayanlar)\n",
        "print(\"Etkinlikteki katılımcılar: \", imza_listesi)\n"
      ],
      "metadata": {
        "colab": {
          "base_uri": "https://localhost:8080/"
        },
        "id": "RyThEO_jCKDB",
        "outputId": "efa12b55-3b43-4f82-91f8-72bb4af453dd"
      },
      "execution_count": 21,
      "outputs": [
        {
          "output_type": "stream",
          "name": "stdout",
          "text": [
            "Kafasına Göre Takılan Öğrencilerin Listesi:  {'Ayşe'}\n",
            "Kod çalışması yapmayan öğrenci listesi:  {'Fatma', 'Veli'}\n",
            "Etkinlikteki katılımcılar:  {'Ayşe', 'Veli', 'Ahmet', 'Fatma', 'Mehmet'}\n"
          ]
        }
      ]
    },
    {
      "cell_type": "code",
      "source": [
        "giris = input(\"Bir sayı girin: \")\n",
        "try:\n",
        "  num = float(giris)\n",
        "  print(f\"Girilen Sayı:  {num}, Tipi: {type(num)},\",abs(num))\n",
        "except ValueError:\n",
        "  print(\"Geçersiz veri girdiniz.\")"
      ],
      "metadata": {
        "colab": {
          "base_uri": "https://localhost:8080/"
        },
        "id": "QdyzG91XEJqN",
        "outputId": "0c116052-a12d-4da3-9680-7cb2db5e4680"
      },
      "execution_count": 22,
      "outputs": [
        {
          "output_type": "stream",
          "name": "stdout",
          "text": [
            "Bir sayı girin: 5\n",
            "Girilen Sayı:  5.0, Tipi: <class 'float'>, 5.0\n"
          ]
        }
      ]
    },
    {
      "cell_type": "code",
      "source": [
        "# 0 ile 1 arasında rastgele ondalık sayı üretir\n",
        "\n",
        "import random\n",
        "\n",
        "rastgele_float = random.random()\n",
        "print(\"Rastgele Deger: \",rastgele_float)"
      ],
      "metadata": {
        "colab": {
          "base_uri": "https://localhost:8080/"
        },
        "id": "x5iculb5FJpV",
        "outputId": "8cd74929-8724-4731-fb0c-0881a33f2b3c"
      },
      "execution_count": 23,
      "outputs": [
        {
          "output_type": "stream",
          "name": "stdout",
          "text": [
            "Rastgele Deger:  0.7410183910155521\n"
          ]
        }
      ]
    },
    {
      "cell_type": "code",
      "source": [
        "# ile 10 arasında (her iki sınır dahil) rastgele tam sayı üretir\n",
        "\n",
        "import random\n",
        "\n",
        "rastgele_sayi = random.randint(1,10)\n",
        "print(\"Rastgele Deger: \",rastgele_sayi)"
      ],
      "metadata": {
        "colab": {
          "base_uri": "https://localhost:8080/"
        },
        "id": "Yw8MwdQvFpfl",
        "outputId": "0b91d086-e1a5-43e3-dc40-c6c797dd55e4"
      },
      "execution_count": 33,
      "outputs": [
        {
          "output_type": "stream",
          "name": "stdout",
          "text": [
            "Rastgele Deger:  2\n"
          ]
        }
      ]
    }
  ]
}