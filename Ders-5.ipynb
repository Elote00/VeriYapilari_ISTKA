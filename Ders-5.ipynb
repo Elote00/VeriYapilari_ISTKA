{
  "nbformat": 4,
  "nbformat_minor": 0,
  "metadata": {
    "colab": {
      "provenance": []
    },
    "kernelspec": {
      "name": "python3",
      "display_name": "Python 3"
    },
    "language_info": {
      "name": "python"
    }
  },
  "cells": [
    {
      "cell_type": "code",
      "execution_count": 2,
      "metadata": {
        "id": "VvTMzMVKDPXi",
        "colab": {
          "base_uri": "https://localhost:8080/"
        },
        "outputId": "de75f539-6eb5-4c20-bf28-267f2400071f"
      },
      "outputs": [
        {
          "output_type": "stream",
          "name": "stdout",
          "text": [
            "Merhaba, İGÜ - İSTKA / Ders 5\n"
          ]
        }
      ],
      "source": [
        "print(\"Merhaba, İGÜ - İSTKA / Ders 5\") # print ekrana çıktı veren bir koddur"
      ]
    },
    {
      "cell_type": "code",
      "source": [
        "import sys # import python programlama dilinde yazılıma kütüphane eklemeye yarayan bir kod blogudur.\n",
        "print(sys.version)"
      ],
      "metadata": {
        "colab": {
          "base_uri": "https://localhost:8080/"
        },
        "id": "WRm-T1jmDuWp",
        "outputId": "644dd3f3-3025-4d21-dcf7-adf468a23620"
      },
      "execution_count": 3,
      "outputs": [
        {
          "output_type": "stream",
          "name": "stdout",
          "text": [
            "3.10.12 (main, Jul 29 2024, 16:56:48) [GCC 11.4.0]\n"
          ]
        }
      ]
    },
    {
      "cell_type": "code",
      "source": [
        "from google.colab import drive # google colab - drive bağlantısı\n",
        "\n",
        "drive.mount('/content/drive')"
      ],
      "metadata": {
        "colab": {
          "base_uri": "https://localhost:8080/"
        },
        "id": "w9ujAZGEDzBA",
        "outputId": "52422131-d68a-4677-9276-1d23c08d3a08"
      },
      "execution_count": 4,
      "outputs": [
        {
          "output_type": "stream",
          "name": "stdout",
          "text": [
            "Mounted at /content/drive\n"
          ]
        }
      ]
    },
    {
      "cell_type": "code",
      "source": [
        "import os\n",
        "\n",
        "os.chdir('/content/drive/My Drive/VERIYAPILARI_ISTKA')\n",
        "\n",
        "!pwd # bize kodun çıktısını dosya yolu olarak veren kod blogudur."
      ],
      "metadata": {
        "colab": {
          "base_uri": "https://localhost:8080/"
        },
        "id": "x1BEJiBlEA7R",
        "outputId": "122f312d-6f3a-45fc-9a89-7d0fe7db7e26"
      },
      "execution_count": 5,
      "outputs": [
        {
          "output_type": "stream",
          "name": "stdout",
          "text": [
            "/content/drive/My Drive/VERIYAPILARI_ISTKA\n"
          ]
        }
      ]
    },
    {
      "cell_type": "code",
      "source": [
        "# 1 ile 100 arasındaki sayılardan 7'ye bölünenleri bulan Python kodu\n",
        "\n",
        "Sayi_dizisi = []\n",
        "Sayi_dizisi2 = []\n",
        "sayi = 1\n",
        "\n",
        "while sayi <= 100:\n",
        "  if sayi % 7 == 0:\n",
        "    Sayi_dizisi.append(sayi)\n",
        "  elif sayi % 7 != 0:\n",
        "    Sayi_dizisi2.append(sayi)\n",
        "  sayi += 1\n",
        "\n",
        "# Sonucu ekrana yazdır\n",
        "\n",
        "print(\"1 ile 100 arasındaki 7'e bölünen sayılar: \",Sayi_dizisi)\n",
        "print(\"Toplam sayı adeti: \", len(Sayi_dizisi))\n",
        "\n",
        "print(\"1 ile 100 arasındaki 7'e bölünmeyen sayılar: \",Sayi_dizisi2)\n",
        "print(\"Toplam sbölünmeyen sayı adeti: \", len(Sayi_dizisi2))"
      ],
      "metadata": {
        "colab": {
          "base_uri": "https://localhost:8080/"
        },
        "id": "_pSC0mOLEEVY",
        "outputId": "ec5418fe-6817-4980-b032-28c168976688"
      },
      "execution_count": 11,
      "outputs": [
        {
          "output_type": "stream",
          "name": "stdout",
          "text": [
            "1 ile 100 arasındaki 7'e bölünen sayılar:  [7, 14, 21, 28, 35, 42, 49, 56, 63, 70, 77, 84, 91, 98]\n",
            "Toplam sayı adeti:  14\n",
            "1 ile 100 arasındaki 7'e bölünmeyen sayılar:  [1, 2, 3, 4, 5, 6, 8, 9, 10, 11, 12, 13, 15, 16, 17, 18, 19, 20, 22, 23, 24, 25, 26, 27, 29, 30, 31, 32, 33, 34, 36, 37, 38, 39, 40, 41, 43, 44, 45, 46, 47, 48, 50, 51, 52, 53, 54, 55, 57, 58, 59, 60, 61, 62, 64, 65, 66, 67, 68, 69, 71, 72, 73, 74, 75, 76, 78, 79, 80, 81, 82, 83, 85, 86, 87, 88, 89, 90, 92, 93, 94, 95, 96, 97, 99, 100]\n",
            "Toplam sbölünmeyen sayı adeti:  86\n"
          ]
        }
      ]
    },
    {
      "cell_type": "code",
      "source": [
        "# Girilen iki kodun hangisinin büyük olduğunu bulan ve sayı dışında girilen karakterin hatalı olduğu bildiren kod blogudur.\n",
        "\n",
        "while True:\n",
        "  try:\n",
        "    gelen1 = float(input(\"Birinci sayıyı girin: \"))\n",
        "    gelen2 = float(input(\"İkinci sayıyı girin: \"))\n",
        "\n",
        "    if gelen1 > gelen2:\n",
        "      print(\"ilk sayı ikinci sayıdan büyüktür\")\n",
        "    elif gelen1 < gelen2:\n",
        "      print(\"ilk sayı ikinci sayıdan küçüktir\")\n",
        "    else:\n",
        "      print(\"Sayılar birbirine eşittir\")\n",
        "    break\n",
        "  except ValueError:\n",
        "    print(\"Lütfen geçerli bir sayı girin\")"
      ],
      "metadata": {
        "colab": {
          "base_uri": "https://localhost:8080/"
        },
        "id": "DOYMg0XTFX_N",
        "outputId": "2285ea79-187d-4c00-a056-5ba61018c79a"
      },
      "execution_count": 12,
      "outputs": [
        {
          "output_type": "stream",
          "name": "stdout",
          "text": [
            "Birinci sayıyı girin: 1\n",
            "İkinci sayıyı girin: 20\n",
            "ilk sayı ikinci sayıdan küçüktir\n"
          ]
        }
      ]
    },
    {
      "cell_type": "code",
      "source": [
        "# Kullanıcıdan alınan sayıya kadar 1'den başlayarak faktöreyel hesabının yapılmasıdır.\n",
        "\n",
        "while True:\n",
        "  try:\n",
        "    sayi = int(input(\"Bir sayi girin: \"))\n",
        "    if sayi < 0:\n",
        "      print(\"Negatif sayıların faktoriyeli hesaplanmaz.\")\n",
        "    elif sayi == 0 or  sayi == 1:\n",
        "      print(1)\n",
        "    else:\n",
        "      sonuc = 1\n",
        "      while sayi > 1:\n",
        "        sonuc *= sayi\n",
        "        sayi -= 1\n",
        "      print(sonuc)\n",
        "    break\n",
        "  except ValueError:\n",
        "    print(\"Lütfen geçerli bir tam sayı girin: \")"
      ],
      "metadata": {
        "colab": {
          "base_uri": "https://localhost:8080/"
        },
        "id": "n5NnfbStIh86",
        "outputId": "eb02f20d-7148-4aeb-a40e-d45555efe9f2"
      },
      "execution_count": 14,
      "outputs": [
        {
          "output_type": "stream",
          "name": "stdout",
          "text": [
            "Bir sayi girin: 2\n",
            "2\n"
          ]
        }
      ]
    },
    {
      "cell_type": "markdown",
      "source": [
        "Kullanıcıdan başlangıç ve bitiş değerlerini alarak, bu değerler arasındaki çift sayıları bulan ve bu çift sayıların toplamını hesaplayan bir Python programı yazınız."
      ],
      "metadata": {
        "id": "28zB3CR_LstO"
      }
    },
    {
      "cell_type": "code",
      "source": [
        "from ast import Try\n",
        "# Kullanıcıdan başlangıç değeri al\n",
        "\n",
        "while True:\n",
        "  try:\n",
        "    baslangic_degeri = int(input(\"Başlangıç değeri girin: \"))\n",
        "    if baslangic_degeri < 0:\n",
        "      baslangic_degeri = abs(baslangic_degeri)\n",
        "      print(f\"Negatif değer girdiniz, pozitif olarak alındı: {baslangic_degeri}\")\n",
        "    break\n",
        "  except ValueError:\n",
        "    print(\"Litfen geçerli bir tam sayı girin: \")\n",
        "\n",
        "# kullanıcıdan son değer al\n",
        "\n",
        "while True:\n",
        "  try:\n",
        "    bitis_degeri = int(input(\"Bitiş değeri girin: \"))\n",
        "    if bitis_degeri < 0:\n",
        "      bitis_degeri = abs(bitis_degeri)\n",
        "      print(f\"Negatif değer girdiniz, pozitif olarak alındı: {bitis_degeri}\")\n",
        "    break\n",
        "  except ValueError:\n",
        "    print(\"lütfen geçerli bir tam sayı girin: \")\n",
        "\n",
        "# Başlangıç ve bitiş değerleri arasında çift sayıları bul ve topla\n",
        "\n",
        "cift_sayilar = []\n",
        "cift_sayilarin_toplami = 0\n",
        "sayi = baslangic_degeri\n",
        "\n",
        "while sayi <= bitis_degeri:\n",
        "  if sayi % 2 == 0:\n",
        "    cift_sayilar.append(sayi)\n",
        "    cift_sayilarin_toplami += sayi\n",
        "  sayi += 1\n",
        "\n",
        "# Elde edilen çift sayıları ve toplamlarını ekrana yazdır\n",
        "\n",
        "print(f\"{baslangic_degeri} ile {bitis_degeri} asarındaki çift sayılar: \")\n",
        "for num in cift_sayilar:\n",
        "  print(num, end = \" \")\n",
        "\n",
        "print(f\"\\nÇift sayıların toplamı: {cift_sayilarin_toplami}\")"
      ],
      "metadata": {
        "colab": {
          "base_uri": "https://localhost:8080/"
        },
        "id": "Zu_7MG9FLvvk",
        "outputId": "898a1b88-f46e-4bcb-fa2f-6f92468abe8f"
      },
      "execution_count": 17,
      "outputs": [
        {
          "output_type": "stream",
          "name": "stdout",
          "text": [
            "Başlangıç değeri girin: 5\n",
            "Bitiş değeri girin: 8\n",
            "5 ile 8 asarındaki çift sayılar: \n",
            "6 8 \n",
            "Çift sayıların toplamı: 14\n"
          ]
        }
      ]
    },
    {
      "cell_type": "code",
      "source": [
        "# önceden tanımlanan sesli harf listesinde girilen metnin katşılaştırılması yapılarak sesli ve sessiz harf kontrolünün yapımı\n",
        "\n",
        "sesli_harfler = 'aeıioöuüAEIİOÖUÜ'\n",
        "kelime = input(\"BBir kelime girin: \") # kullanıcıdan bir kelime al\n",
        "\n",
        "# Sesli ve sessiz harf sayısını hesapla\n",
        "\n",
        "Sesli_harf_sayisi = 0\n",
        "sessiz_harf_sayisi = 0\n",
        "\n",
        "# isalpha() ile bir stringde yalnızca harf olup olmadığını kontrol etmek için kullanılır.\n",
        "\n",
        "# Aşağıdaki kod blogunda geçen \"isalpha\" harf dışı bir karakter ile karşılaşınca \"false\" döndürmektedir.\n",
        "\n",
        "for harf  in kelime:\n",
        "  if harf.isalpha():\n",
        "    if harf in sesli_harfler:\n",
        "      Sesli_harf_sayisi += 1\n",
        "    else:\n",
        "      sessiz_harf_sayisi += 1\n",
        "\n",
        "# Sonuçları ekrana yazdır\n",
        "\n",
        "print(kelime, \"kelimesinde\" , Sesli_harf_sayisi , \"adet sesli harf ve\", sessiz_harf_sayisi, \"sessiz harf vardır.\")\n",
        "\n",
        "\n"
      ],
      "metadata": {
        "colab": {
          "base_uri": "https://localhost:8080/"
        },
        "id": "exJN0e_UQrE0",
        "outputId": "6cb84cf1-440d-4616-e2e9-4c104dd5e720"
      },
      "execution_count": 21,
      "outputs": [
        {
          "output_type": "stream",
          "name": "stdout",
          "text": [
            "BBir kelime girin: mehmet\n",
            "mehmet kelimesinde 2 adet sesli harf ve 4 sessiz harf vardır.\n"
          ]
        }
      ]
    }
  ]
}